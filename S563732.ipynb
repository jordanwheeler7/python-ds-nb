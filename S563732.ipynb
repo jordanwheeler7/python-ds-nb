{
 "cells": [
  {
   "cell_type": "markdown",
   "id": "8fb4e339-b61f-4389-b518-63b7e456eb0e",
   "metadata": {},
   "source": [
    "# Question 10\n",
    "## Jordan Wheeler"
   ]
  },
  {
   "cell_type": "code",
   "execution_count": 2,
   "id": "45dfc3bf-20b4-4488-be99-e66069044d54",
   "metadata": {},
   "outputs": [
    {
     "name": "stdout",
     "output_type": "stream",
     "text": [
      "*      *\n",
      "**    **\n",
      "***  ***\n",
      "********\n"
     ]
    }
   ],
   "source": [
    "for i in range(4):\n",
    "    print('*' * (i + 1) + ' ' * (2 * (4 - i) - 2) + '*' * (i + 1))"
   ]
  },
  {
   "cell_type": "code",
   "execution_count": null,
   "id": "263f0f25-6faf-4a5c-9908-b8e449ce2fd2",
   "metadata": {},
   "outputs": [],
   "source": []
  }
 ],
 "metadata": {
  "kernelspec": {
   "display_name": "Python 3 (ipykernel)",
   "language": "python",
   "name": "python3"
  },
  "language_info": {
   "codemirror_mode": {
    "name": "ipython",
    "version": 3
   },
   "file_extension": ".py",
   "mimetype": "text/x-python",
   "name": "python",
   "nbconvert_exporter": "python",
   "pygments_lexer": "ipython3",
   "version": "3.9.15"
  }
 },
 "nbformat": 4,
 "nbformat_minor": 5
}
