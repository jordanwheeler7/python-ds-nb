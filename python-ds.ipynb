{
 "cells": [
  {
   "cell_type": "markdown",
   "metadata": {},
   "source": [
    "# Web Mining and Applied NLP (44-620)\n",
    "\n",
    "## Python Notebooks, Basics, and Data Structures\n",
    "\n",
    "### Student Name: Jordan Wheeler https://github.com/jordanwheeler7/python-ds-nb/tree/main\n",
    "\n",
    "Perform the tasks described in the Markdown cells below.  When you have completed the assignment make sure your code cells have all been run (and have output beneath them) and ensure you have committed and pushed ALL of your changes to your assignment repository.\n",
    "\n",
    "Every question that requires you to write code will have a code cell underneath it; you may either write your entire solution in that cell or write it in a python file (`.py`), then import and run the appropriate code to answer the question.\n",
    "\n",
    "Do not use external modules (`math`, etc) for this assignment unless you are explicitly instructed to, though you may use built in python functions (`min`, `max`, etc) as you wish."
   ]
  },
  {
   "cell_type": "markdown",
   "metadata": {},
   "source": [
    "1. Modify the Markdown cell above to put your name after \"Student Name:\"; you will be expected to do this in all assignments presented in this format for this class."
   ]
  },
  {
   "cell_type": "markdown",
   "metadata": {},
   "source": [
    "## Question 2"
   ]
  },
  {
   "cell_type": "markdown",
   "metadata": {},
   "source": [
    "2. Write code that divides any two numbers, stores the result in a variable, and prints the result with an appropriate label."
   ]
  },
  {
   "cell_type": "code",
   "execution_count": 3,
   "metadata": {
    "tags": []
   },
   "outputs": [
    {
     "name": "stdout",
     "output_type": "stream",
     "text": [
      "Y divided by X = 7.0\n"
     ]
    }
   ],
   "source": [
    "x = 7\n",
    "y = 49\n",
    "\n",
    "def divide(y, x):\n",
    "    return y / x\n",
    "\n",
    "quotient = divide(y, x)\n",
    "\n",
    "print(\"Y divided by X =\", quotient)\n"
   ]
  },
  {
   "cell_type": "markdown",
   "metadata": {},
   "source": [
    "## Question 3"
   ]
  },
  {
   "cell_type": "markdown",
   "metadata": {},
   "source": [
    "3. Using loops (and potentially conditionals), write Python code that prints the factorial of each integer from 1 through 10 (which you can store in a variable if you want). The factorial of an integer is the product of all of the integers of 1 through the number. Print the result with an appropriate label."
   ]
  },
  {
   "cell_type": "code",
   "execution_count": 1,
   "metadata": {},
   "outputs": [
    {
     "name": "stdout",
     "output_type": "stream",
     "text": [
      "The facotrial of 1 is: 1\n",
      "The facotrial of 2 is: 2\n",
      "The facotrial of 3 is: 6\n",
      "The facotrial of 4 is: 24\n",
      "The facotrial of 5 is: 120\n",
      "The facotrial of 6 is: 720\n",
      "The facotrial of 7 is: 5040\n",
      "The facotrial of 8 is: 40320\n",
      "The facotrial of 9 is: 362880\n",
      "The facotrial of 10 is: 3628800\n"
     ]
    }
   ],
   "source": [
    "for num in range(1, 11):\n",
    "    factorial = 1\n",
    "    for i in range(1, num +1):\n",
    "        factorial *=i\n",
    "    print(f\"The facotrial of {num} is: {factorial}\")"
   ]
  },
  {
   "cell_type": "markdown",
   "metadata": {},
   "source": [
    "## Question 4"
   ]
  },
  {
   "cell_type": "markdown",
   "metadata": {},
   "source": [
    "4. Write a python function that takes a single parameter and calculates and returns the average (mean) of the values in the parameter (which you may assume is iterable).  Show that your function works by printing the result of calling the function on the list in the cell below."
   ]
  },
  {
   "cell_type": "code",
   "execution_count": 6,
   "metadata": {},
   "outputs": [
    {
     "name": "stdout",
     "output_type": "stream",
     "text": [
      "0.0\n"
     ]
    }
   ],
   "source": [
    "testlist = [1,-1,2,-2,3,-3,4,-4]\n",
    "\n",
    "def calculate_average(testlist):\n",
    "    total = sum(testlist)\n",
    "    average = total / len(testlist)\n",
    "    return average\n",
    "    \n",
    "\n",
    "print(calculate_average(testlist))\n"
   ]
  },
  {
   "cell_type": "markdown",
   "metadata": {},
   "source": [
    "## Question 5"
   ]
  },
  {
   "cell_type": "markdown",
   "metadata": {},
   "source": [
    "5. Using your mean function above, write a function that calculates the variance of the list of numbers (see https://en.wikipedia.org/wiki/Variance for more information on the formula). In short:\n",
    "* subtract the mean of the elements in the list from every element in the list; store these values in a new list\n",
    "* square every element in the new list and sum the elements together\n",
    "* divide the resulting number by N (where N is the length of the original list)\n",
    "\n",
    "Show the result of calling your function in the lists in the code cell. You must use one or more list comprehensions or map/filter in your code.\n"
   ]
  },
  {
   "cell_type": "code",
   "execution_count": 4,
   "metadata": {},
   "outputs": [
    {
     "name": "stdout",
     "output_type": "stream",
     "text": [
      "Variance of list1: 1.13973309\n",
      "Variance of list2: 0.9257232841\n"
     ]
    }
   ],
   "source": [
    "list1 = [ 5.670e-1, -1.480e+0, -5.570e-1, -1.470e+0, 7.340e-1, 1.050e+0, 4.480e-1, 2.570e-1, -1.970e+0, -1.460e+0]\n",
    "list2 = [-1.780e+0, 2.640e-1, 1.160e+0, 9.080e-1, 1.780e+0, 1.080e+0, 1.050e+0, -4.630e-2, 1.520e+0, 5.350e-1]\n",
    "# the variances of both lists should be relatively close to 1 (off by less than .15)\n",
    "\n",
    "def calculations(numbers):\n",
    "    # Calculate mean\n",
    "    mean = sum(numbers) / len(numbers)\n",
    "    \n",
    "    # Subtract Mean From Every Element\n",
    "    \n",
    "    diff_list = [(num - mean) for num in numbers]\n",
    "    \n",
    "    # Squared Sum\n",
    "    \n",
    "    squared_sum = sum([num **2 for num in diff_list])\n",
    "\n",
    "    \n",
    "    # Divide by N\n",
    "    \n",
    "    variance = squared_sum / len(numbers)\n",
    "    \n",
    "    return variance\n",
    "\n",
    "variance1 = calculations(list1)\n",
    "variance2 = calculations(list2)\n",
    "\n",
    "print(\"Variance of list1:\", variance1)\n",
    "print(\"Variance of list2:\", variance2)   \n"
   ]
  },
  {
   "cell_type": "markdown",
   "metadata": {},
   "source": [
    "## Question 6"
   ]
  },
  {
   "cell_type": "markdown",
   "metadata": {},
   "source": [
    "6. Create a list with at least 15 elements in it. Use list slicing to print the following:\n",
    "* The first 5 elements of the list\n",
    "* The last 5 elements of the list\n",
    "* The list reversed (hint, show the entire list with a stride of -1)\n",
    "* Every second element in the list\n",
    "* Every third element in the list (stride of 3)"
   ]
  },
  {
   "cell_type": "code",
   "execution_count": 17,
   "metadata": {},
   "outputs": [
    {
     "name": "stdout",
     "output_type": "stream",
     "text": [
      "First 5 Elements: [1, 2, 3, 4, 5]\n",
      "Last 5 Elements: [11, 12, 13, 14, 15]\n",
      "Reveresed List: [15, 14, 13, 12, 11, 10, 9, 8, 7, 6, 5, 4, 3, 2, 1]\n",
      "Every Second Element: [1, 3, 5, 7, 9, 11, 13, 15]\n",
      "Every Third Element: [1, 4, 7, 10, 13]\n"
     ]
    }
   ],
   "source": [
    "list15 = [1, 2, 3, 4, 5, 6, 7, 8, 9, 10, 11, 12, 13, 14, 15]\n",
    "\n",
    "# First 5\n",
    "\n",
    "print(\"First 5 Elements:\", list15[:5])\n",
    "print(\"Last 5 Elements:\", list15[-5:])\n",
    "print(\"Reveresed List:\", list15[::-1])\n",
    "print(\"Every Second Element:\", list15[::2])\n",
    "print(\"Every Third Element:\", list15[::3])"
   ]
  },
  {
   "cell_type": "markdown",
   "metadata": {},
   "source": [
    "## Question 7"
   ]
  },
  {
   "cell_type": "markdown",
   "metadata": {},
   "source": [
    "7. Build a dictionary that contains the following information about this class (with appropriate names as keys):\n",
    "* The name\n",
    "* The course number\n",
    "* The semester/term in which you are taking this course\n",
    "* The number of credit hours this course counts for\n",
    "* A list of the course learning objectives\n",
    "\n",
    "The majority of this information can be found in the syllabus. Print the dictionary."
   ]
  },
  {
   "cell_type": "code",
   "execution_count": 21,
   "metadata": {},
   "outputs": [
    {
     "name": "stdout",
     "output_type": "stream",
     "text": [
      "{'Name': 'Web Mining & Applied Natural Language Processing', 'Course Number': 44620, 'Semester': 'Summer 2', 'Credit Hours': 3, 'Learning Outcome': ['L01. Manage Python libraries and packages', 'L02. Interact with Hosted Version Control Systems (e.g.Git and GitHub)', 'L03. Programmatically obtain and transform data from web-based APIs and HTML pages into a usable form.', 'L04. Describe the steps in a basic Natural Language Processing Pipeline', 'L05. Use preexisting tools and software libraries to perform some Natural Language Processing, such as sentiment analysis.', 'L06. Explain results and conclusions drawn from the visualized information.']}\n"
     ]
    }
   ],
   "source": [
    "crse_dict = {'Name': 'Web Mining & Applied Natural Language Processing', 'Course Number': 44620,\n",
    "             'Semester': 'Summer 2', 'Credit Hours': 3, 'Learning Outcome': ['L01. Manage Python libraries and packages',\n",
    "                                                                             'L02. Interact with Hosted Version Control Systems (e.g.Git and GitHub)',\n",
    "                                                                             'L03. Programmatically obtain and transform data from web-based APIs and HTML pages into a usable form.',\n",
    "                                                                             'L04. Describe the steps in a basic Natural Language Processing Pipeline',\n",
    "                                                                             'L05. Use preexisting tools and software libraries to perform some Natural Language Processing, such as sentiment analysis.',\n",
    "                                                                             'L06. Explain results and conclusions drawn from the visualized information.']}\n",
    "print(crse_dict)"
   ]
  },
  {
   "cell_type": "markdown",
   "metadata": {},
   "source": [
    "## Question 8"
   ]
  },
  {
   "cell_type": "markdown",
   "metadata": {},
   "source": [
    "8.  Given the dictionary defined in the code cell below, print the list of level 3 spells the character has."
   ]
  },
  {
   "cell_type": "code",
   "execution_count": 29,
   "metadata": {},
   "outputs": [
    {
     "name": "stdout",
     "output_type": "stream",
     "text": [
      "Level 3 Spells: ['Mass Healing Word', 'Nondetection', 'Revivify', 'Feign Death', 'Speak with Dead']\n"
     ]
    }
   ],
   "source": [
    "player_character = {'name': 'Kitab',\n",
    "                   'class': [('Cleric: Knowledge', 7)],\n",
    "                   'spells': {'cantrip': ['Guidance', 'Light', 'Thaumaturgy', 'Toll the Dead', 'Word of Radiance'],\n",
    "                             'level 1': ['Command', 'Detect Magic', 'Healing Word', 'Identify', 'Sleep'],\n",
    "                             'level 2': ['Augury', 'Calm Emotions', 'Command', 'Invisibility', 'Lesser Restoration'],\n",
    "                             'level 3': ['Mass Healing Word', 'Nondetection', 'Revivify', 'Feign Death', 'Speak with Dead'],\n",
    "                             'level 4': ['Banishment', 'Confusion']}\n",
    "                   }\n",
    "\n",
    "for key, value in player_character.items():\n",
    "    if key == 'spells':\n",
    "        level3spells = value['level 3']\n",
    "        print(\"Level 3 Spells:\", level3spells)"
   ]
  },
  {
   "cell_type": "markdown",
   "metadata": {},
   "source": [
    "## Question 9"
   ]
  },
  {
   "cell_type": "markdown",
   "metadata": {},
   "source": [
    "9. Write code to determine the number of unique elements in the list below.  You MUST use a set in finding your solution.  Print the number of unique values in the list with an appropriate label."
   ]
  },
  {
   "cell_type": "code",
   "execution_count": 31,
   "metadata": {},
   "outputs": [
    {
     "name": "stdout",
     "output_type": "stream",
     "text": [
      "{0, 1, 5, 6, 7, 8, 9, 10, 11, 12, 13, 15}\n",
      "The number of unique values is: 12\n"
     ]
    }
   ],
   "source": [
    "values = [10, 11, 10, 8, 1, 12, 0, 1, 6, 5, 5, 13, 6, 15, 0, 0, 1, 1, 9, 7]\n",
    "\n",
    "unique_values = set(values)\n",
    "num_unique_values = len(unique_values)\n",
    "\n",
    "print(unique_values)\n",
    "\n",
    "print(\"The number of unique values is:\", num_unique_values)"
   ]
  },
  {
   "cell_type": "markdown",
   "metadata": {},
   "source": [
    "## Question 10"
   ]
  },
  {
   "cell_type": "markdown",
   "metadata": {},
   "source": [
    "10. Create a new Jupyter Notebook (the name of the notebook should be your S number). Add a Markdown cell that contains your name. Add a Code cell and write Python that uses loops to draw the following pattern:\n",
    "\n",
    "```\n",
    "*      *\n",
    "**    **\n",
    "***  ***\n",
    "********\n",
    "```\n",
    "Make sure to add and submit both the new notebook and the changes to this notebook for this assignment."
   ]
  },
  {
   "cell_type": "code",
   "execution_count": null,
   "metadata": {},
   "outputs": [],
   "source": []
  }
 ],
 "metadata": {
  "kernelspec": {
   "display_name": "Python 3 (ipykernel)",
   "language": "python",
   "name": "python3"
  },
  "language_info": {
   "codemirror_mode": {
    "name": "ipython",
    "version": 3
   },
   "file_extension": ".py",
   "mimetype": "text/x-python",
   "name": "python",
   "nbconvert_exporter": "python",
   "pygments_lexer": "ipython3",
   "version": "3.9.15"
  }
 },
 "nbformat": 4,
 "nbformat_minor": 4
}
